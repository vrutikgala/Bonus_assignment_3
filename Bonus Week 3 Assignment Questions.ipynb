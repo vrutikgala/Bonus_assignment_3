{
 "cells": [
  {
   "cell_type": "markdown",
   "id": "324f16d6",
   "metadata": {},
   "source": [
    "# Bonus Assignment 3: For Loops and Lists\n",
    "\n",
    "- Student Name: Vrutik Gala \n",
    "- Division: B\n",
    "- Roll Number: 49 "
   ]
  },
  {
   "cell_type": "markdown",
   "id": "b07c8a7a",
   "metadata": {},
   "source": [
    "# For Loops"
   ]
  },
  {
   "cell_type": "markdown",
   "id": "fa6ebbf9",
   "metadata": {},
   "source": [
    "# Q1) Create a function called emoji_grader that accepts a list of grades and prints emojis based on the following grading scheme: \n",
    "- 100: 😱😱😱😱😱😱\n",
    "- 90 to 99: 🔥🔥🔥🔥🔥\n",
    "- 70 to 89: 🎉🎉🎉🎉🎉\n",
    "- 60 to 69: 😐😐😐😐😐\n",
    "- 35 to 59: 👀\n",
    "- 1 to 35: 👀👀👀👀👀\n",
    "- 0: 💀💀💀💀💀"
   ]
  },
  {
   "cell_type": "code",
   "execution_count": 9,
   "id": "a7b0caf0",
   "metadata": {},
   "outputs": [],
   "source": [
    "def emoji_grader(list_of_grades):\n",
    "    \n",
    "    for grade in grades:\n",
    "        if grade==100:\n",
    "            print (\"😱😱😱😱😱😱\")\n",
    "        elif grade>=90 and grade<100:\n",
    "            print (\"🔥🔥🔥🔥🔥\")\n",
    "        elif grade>=70 and grade<90:\n",
    "            print  (\"🎉🎉🎉🎉🎉\")\n",
    "        elif grade>=60 and grade<70:\n",
    "            print (\"😐😐😐😐😐\")\n",
    "        elif grade>=35 and grade<60:\n",
    "            print (\"👀\")\n",
    "        elif grade>=1 and grade<35:\n",
    "            print (\"👀👀👀👀👀\")\n",
    "        \n",
    "        \n",
    "    else:\n",
    "         print (\"💀💀💀💀💀\")\n",
    "    "
   ]
  },
  {
   "cell_type": "code",
   "execution_count": 10,
   "id": "0c446896",
   "metadata": {},
   "outputs": [],
   "source": [
    "grades=[45,67,89,45,90,6,89]"
   ]
  },
  {
   "cell_type": "code",
   "execution_count": 11,
   "id": "165a609d",
   "metadata": {},
   "outputs": [
    {
     "name": "stdout",
     "output_type": "stream",
     "text": [
      "👀\n",
      "😐😐😐😐😐\n",
      "🎉🎉🎉🎉🎉\n",
      "👀\n",
      "🔥🔥🔥🔥🔥\n",
      "👀👀👀👀👀\n",
      "🎉🎉🎉🎉🎉\n",
      "💀💀💀💀💀\n"
     ]
    }
   ],
   "source": [
    "emoji_grader(grades)"
   ]
  },
  {
   "cell_type": "markdown",
   "id": "bac1f93e",
   "metadata": {},
   "source": [
    "## Q2) Create a function called square_printer that accepts a list of numbers and prints the square of each number in the list. Test your function with two lists. (5 Marks): \n",
    "\n",
    "**Here is an example of what the output would look like for the following list [2,4,5]**\n",
    "\n",
    "Current Number is 2  and the Square is 4\n",
    "\n",
    "Current Number is 4  and the Square is 16\n",
    "\n",
    "Current Number is 5  and the Square is 25"
   ]
  },
  {
   "cell_type": "code",
   "execution_count": 57,
   "id": "21d996c3",
   "metadata": {},
   "outputs": [],
   "source": [
    "def square_printer(numbers):\n",
    "    for number in numbers:\n",
    "        print (\"Current number is\", number ,\"and the Square is\" ,number*number)\n",
    "    "
   ]
  },
  {
   "cell_type": "code",
   "execution_count": 58,
   "id": "db25e30a",
   "metadata": {},
   "outputs": [
    {
     "name": "stdout",
     "output_type": "stream",
     "text": [
      "Current number is 4 and the Square is 16\n",
      "Current number is 3 and the Square is 9\n"
     ]
    }
   ],
   "source": [
    "numbers=[4,3]\n",
    "square_printer(numbers)"
   ]
  },
  {
   "cell_type": "code",
   "execution_count": null,
   "id": "984755b4",
   "metadata": {},
   "outputs": [],
   "source": []
  },
  {
   "cell_type": "markdown",
   "id": "c3fdc03e",
   "metadata": {},
   "source": [
    "# Q3) Create a function called vowel_count_printer that (10 Marks): \n",
    "\n",
    "\n",
    "- Accepts a sentence \n",
    "- Prints the total vowels (\"a\", \"e\", \"i', \"o\", \"u\") for each word in the sentence\n",
    "- Ensure your function is not case sensitve\n",
    "\n",
    "**For example, the sentence \"Hello, I am Zoshua Colah\" should print the following:**\n",
    "\n",
    "Current Word is: Hello and the Total Vowels in the Word are 2\n",
    "\n",
    "Current Word is: I and the Total Vowels in the Word are 1\n",
    "\n",
    "Current Word is: am and the Total Vowels in the Word are 1\n",
    "\n",
    "Current Word is: Zoshua and the Total Vowels in the Word are 3\n",
    "\n",
    "Current Word is: Colah and the Total Vowels in the Word are 2"
   ]
  },
  {
   "cell_type": "code",
   "execution_count": 55,
   "id": "e940984c",
   "metadata": {},
   "outputs": [],
   "source": [
    "def vowel_count_printer(sentence):\n",
    "    words_in_sentence=sentence.split(\" \")\n",
    "    for word in words_in_sentence:\n",
    "        vowels=0\n",
    "        for alphabet in word:\n",
    "            if alphabet.upper()==\"A\" or alphabet.upper()==\"E\" or alphabet.upper==\"I\" or alphabet.upper()==\"O\" or alphabet.upper==\"U\":\n",
    "                vowels=vowels+1\n",
    "        \n",
    "        print (\"Current word is:\", word ,\"and the total vowels in the word are\", vowels)\n",
    "        "
   ]
  },
  {
   "cell_type": "code",
   "execution_count": 56,
   "id": "bfb47ebf",
   "metadata": {},
   "outputs": [
    {
     "name": "stdout",
     "output_type": "stream",
     "text": [
      "Current word is: Hello, and the total vowels in the word are 2\n",
      "Current word is: my and the total vowels in the word are 0\n",
      "Current word is: name and the total vowels in the word are 2\n",
      "Current word is: is and the total vowels in the word are 0\n",
      "Current word is: Vrutik and the total vowels in the word are 0\n",
      "Current word is: Gala and the total vowels in the word are 2\n"
     ]
    }
   ],
   "source": [
    "vowel_count_printer(\"Hello, my name is Vrutik Gala\")"
   ]
  },
  {
   "cell_type": "code",
   "execution_count": null,
   "id": "0105f60b",
   "metadata": {},
   "outputs": [],
   "source": []
  }
 ],
 "metadata": {
  "kernelspec": {
   "display_name": "Python 3",
   "language": "python",
   "name": "python3"
  },
  "language_info": {
   "codemirror_mode": {
    "name": "ipython",
    "version": 3
   },
   "file_extension": ".py",
   "mimetype": "text/x-python",
   "name": "python",
   "nbconvert_exporter": "python",
   "pygments_lexer": "ipython3",
   "version": "3.8.8"
  }
 },
 "nbformat": 4,
 "nbformat_minor": 5
}
